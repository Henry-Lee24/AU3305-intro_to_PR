{
 "cells": [
  {
   "cell_type": "code",
   "execution_count": 1078,
   "metadata": {},
   "outputs": [],
   "source": [
    "import numpy as np\n",
    "import pandas as pd\n",
    "from matplotlib import pyplot as plt \n"
   ]
  },
  {
   "cell_type": "markdown",
   "metadata": {},
   "source": [
    "数据生成及预处理"
   ]
  },
  {
   "cell_type": "code",
   "execution_count": 1079,
   "metadata": {},
   "outputs": [],
   "source": [
    "##生成服从正态分布的数据\n",
    "np.random.seed(1)\n",
    "weight = np.random.randn(100,1)\n",
    "#b = 1\n",
    "#print(weight)\n",
    "data_x = np.random.randn(200,100)\n",
    "#划分训练集和测试集\n",
    "##x和y的切片要同步进行\n",
    "#train_data为训练集，其中train_data_x1和train_data_x2用于交叉验证时的切片与合并处理\n",
    "train_data_x1 = data_x[0:180,:]\n",
    "train_data_x2 = data_x[200:200,:]\n",
    "train_data_x = np.concatenate((train_data_x1,train_data_x2),axis=0) \n",
    "test_data_x = data_x[180:200,:]\n",
    "\n",
    "#train_data_y和test_data_y为训练集和测试集的lable\n",
    "noise = np.random.normal(loc =0.0 , scale= 0.01,size = (200,1))\n",
    "data_truth_y = np.dot(data_x, weight) + noise\n",
    "train_data_y1 = data_truth_y[0:180,:]\n",
    "train_data_y2 = data_truth_y[200:200,:]\n",
    "train_data_y = np.concatenate((train_data_y1,train_data_y2),axis=0) \n",
    "test_data_y = data_truth_y[180:200,:]\n"
   ]
  },
  {
   "cell_type": "markdown",
   "metadata": {},
   "source": [
    "线性回归"
   ]
  },
  {
   "cell_type": "code",
   "execution_count": 1080,
   "metadata": {},
   "outputs": [],
   "source": [
    "#初始化w，b\n",
    "def initial(dim):\n",
    "    w  = np.zeros((dim, 1))\n",
    "    b = 0\n",
    "    return w,b\n",
    "    #print(w)\n",
    "    #print(w.shape)##根据损失函数调试\n"
   ]
  },
  {
   "cell_type": "code",
   "execution_count": 1081,
   "metadata": {},
   "outputs": [],
   "source": [
    "#设置损失函数，并根据梯度下降法计算出每次需要迭代的dw,db\n",
    "def lossf(X, y, w, b,gama):\n",
    "    num_of_data = X.shape[0]\n",
    "    num_of_feature = X.shape[1]\n",
    "    #print(X.shape)\n",
    "    #print(w.shape)\n",
    "    y_mat = np.dot(X, w)+b\n",
    "    #损失函数\n",
    "    loss1 = 0.5*gama*np.sum(w**2)\n",
    "    loss2 = np.sum((y_mat-y)**2)\n",
    "    loss_total = loss1+loss2\n",
    "    #更新的dw，db\n",
    "    #loss_mean = -loss_total/num_of_data\n",
    "    dw = (gama*w + 2*np.dot(X.T, y-y_mat))/num_of_data\n",
    "    db = 2* sum(y-y_mat)/num_of_data\n",
    "    #print(loss_mean)\n",
    "    #print(dw.shape)\n",
    "    #print(db.shape)\n",
    "    return y_mat, loss_total, dw, db\n",
    "#w,b = initial(train_data_x.shape[1])\n",
    "#logistics(train_data_x,train_data_y,w,b)"
   ]
  },
  {
   "cell_type": "code",
   "execution_count": 1082,
   "metadata": {},
   "outputs": [],
   "source": [
    "#训练函数\n",
    "def train(X, y, gama, learning_rate=0.001, epochs=10000):\n",
    "    epochs_loss = []\n",
    "    w,b = initial(X.shape[1])\n",
    "    #print(w.shape)\n",
    "    #根据设置的epoch进行循环\n",
    "    for i in range(epochs):\n",
    "        y_hat, loss, dw,db = lossf(X, y, w, b,gama)\n",
    "        #更新w和b\n",
    "        w += learning_rate*dw\n",
    "        b += learning_rate*db\n",
    "        epochs_loss.append(loss)\n",
    "        #if(i%5000 ==0):\n",
    "            #learning_rate = learning_rate/2.0\n",
    "            #print(learning_rate)\n",
    "    params = {'w':w, 'b':b}\n",
    "    grades = {'dw':dw, 'db': db}\n",
    "    return epochs_loss, params, grades"
   ]
  },
  {
   "cell_type": "code",
   "execution_count": 1083,
   "metadata": {},
   "outputs": [],
   "source": [
    "#预测\n",
    "def predict(X, params):\n",
    "    w = params['w']\n",
    "    \n",
    "    b = params['b']\n",
    "    y_pre = np.dot(X, w)+b\n",
    "    return y_pre"
   ]
  },
  {
   "cell_type": "code",
   "execution_count": 1084,
   "metadata": {},
   "outputs": [
    {
     "name": "stdout",
     "output_type": "stream",
     "text": [
      "[0.05895489]\n"
     ]
    },
    {
     "data": {
      "image/png": "[encoded data removed]",
      "text/plain": [
       "<Figure size 640x480 with 1 Axes>"
      ]
     },
     "metadata": {},
     "output_type": "display_data"
    }
   ],
   "source": [
    "##主函数\n",
    "#调整下面超参数即可\n",
    "learning_rate = 0.001\n",
    "epochs = 10000\n",
    "gama = 0.01\n",
    "train_loss, params, grads = train(train_data_x,train_data_y, gama,learning_rate, epochs)\n",
    "\n",
    "pre_train_data_y = predict(train_data_x, params)\n",
    "pre_data_y = predict(test_data_x, params)\n",
    "#做出损失函数和ephoch的图，验证收敛\n",
    "ephochs_list = np.arange(0, ephochs,1)\n",
    "train_loss = np.array(train_loss)\n",
    "final_loss = train_loss[-1]\n",
    "#print(final_loss)\n",
    "plt.plot(ephochs_list, train_loss)\n",
    "plt.xlabel('Epochs')\n",
    "plt.ylabel('loss')\n",
    "w = params['w']\n",
    "#print(params['w'])\n",
    "#计算最终损失函数\n",
    "#loss = sum((pre_data_y-test_data_y)**2)+0.5*gama*np.sum(w**2)\n",
    "#print(loss)\n",
    "mse = sum((pre_data_y-test_data_y)**2)/pre_data_y.shape[0]\n",
    "print(mse)\n",
    "#计算w损失\n",
    "#wloss = np.sum((weight-w)**2)/100\n",
    "#print(wloss)"
   ]
  }
 ],
 "metadata": {
  "kernelspec": {
   "display_name": "Python 3.8.10 64-bit",
   "language": "python",
   "name": "python3"
  },
  "language_info": {
   "codemirror_mode": {
    "name": "ipython",
    "version": 3
   },
   "file_extension": ".py",
   "mimetype": "text/x-python",
   "name": "python",
   "nbconvert_exporter": "python",
   "pygments_lexer": "ipython3",
   "version": "3.8.10"
  },
  "orig_nbformat": 4,
  "vscode": {
   "interpreter": {
    "hash": "8bfa012fa100a1ab38ee06395b62406ea71dbc68b66a3cb679668e56bc928b03"
   }
  }
 },
 "nbformat": 4,
 "nbformat_minor": 2
}
