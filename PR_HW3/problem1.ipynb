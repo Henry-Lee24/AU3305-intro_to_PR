{
 "cells": [
  {
   "cell_type": "code",
   "execution_count": 114,
   "metadata": {},
   "outputs": [],
   "source": [
    "import numpy as np\n",
    "import pandas as pd \n"
   ]
  },
  {
   "cell_type": "code",
   "execution_count": 115,
   "metadata": {},
   "outputs": [
    {
     "name": "stdout",
     "output_type": "stream",
     "text": [
      "[[6.3200e-03 1.8000e+01 2.3100e+00 ... 1.5300e+01 3.9690e+02 4.9800e+00]\n",
      " [2.7310e-02 0.0000e+00 7.0700e+00 ... 1.7800e+01 3.9690e+02 9.1400e+00]\n",
      " [2.7290e-02 0.0000e+00 7.0700e+00 ... 1.7800e+01 3.9283e+02 4.0300e+00]\n",
      " ...\n",
      " [6.0760e-02 0.0000e+00 1.1930e+01 ... 2.1000e+01 3.9690e+02 5.6400e+00]\n",
      " [1.0959e-01 0.0000e+00 1.1930e+01 ... 2.1000e+01 3.9345e+02 6.4800e+00]\n",
      " [4.7410e-02 0.0000e+00 1.1930e+01 ... 2.1000e+01 3.9690e+02 7.8800e+00]]\n"
     ]
    }
   ],
   "source": [
    "data = pd.read_table('housing.data',header=None,delim_whitespace=True)\n",
    "data = np.array(data)\n",
    "label = data[:, 13:14]\n",
    "feature = data[:, 0:13]\n",
    "#print(data[:, 0])\n",
    "#print (label)\n",
    "print(feature)\n",
    "#print(data.shape[1])"
   ]
  },
  {
   "cell_type": "code",
   "execution_count": 116,
   "metadata": {},
   "outputs": [
    {
     "name": "stdout",
     "output_type": "stream",
     "text": [
      "[-0.3883046085868113, 0.36044534245054277, -0.4837251600283727, 0.17526017719029854, -0.42732077237328264, 0.6953599470715395, -0.3769545650045963, 0.24992873408590388, -0.38162623063977763, -0.468535933567767, -0.5077866855375617, 0.33346081965706653, -0.7376627261740147]\n"
     ]
    }
   ],
   "source": [
    "#pearson linear correlation\n",
    "plcs = []\n",
    "y = data[:,-1]\n",
    "\n",
    "for i in range((data.shape[1]-1)):\n",
    "    x = data[:,i]\n",
    "    plc = np.corrcoef(x, y)\n",
    "    #print(plc)\n",
    "    plcs.append(plc[0,1])\n",
    "\n",
    "print(plcs)\n"
   ]
  },
  {
   "cell_type": "code",
   "execution_count": 117,
   "metadata": {},
   "outputs": [
    {
     "name": "stdout",
     "output_type": "stream",
     "text": [
      "[3.61352356e+00 1.13636364e+01 1.11367787e+01 6.91699605e-02\n",
      " 5.54695059e-01 6.28463439e+00 6.85749012e+01 3.79504269e+00\n",
      " 9.54940711e+00 4.08237154e+02 1.84555336e+01 3.56674032e+02\n",
      " 1.26530632e+01]\n",
      "[[ -3.60720356   6.63636364  -8.82677866 ...  -3.1555336   40.22596838\n",
      "   -7.67306324]\n",
      " [ -3.58621356 -11.36363636  -4.06677866 ...  -0.6555336   40.22596838\n",
      "   -3.51306324]\n",
      " [ -3.58623356 -11.36363636  -4.06677866 ...  -0.6555336   36.15596838\n",
      "   -8.62306324]\n",
      " ...\n",
      " [ -3.55276356 -11.36363636   0.79322134 ...   2.5444664   40.22596838\n",
      "   -7.01306324]\n",
      " [ -3.50393356 -11.36363636   0.79322134 ...   2.5444664   36.77596838\n",
      "   -6.17306324]\n",
      " [ -3.56611356 -11.36363636   0.79322134 ...   2.5444664   40.22596838\n",
      "   -4.77306324]]\n"
     ]
    }
   ],
   "source": [
    "#归一化处理\n",
    "feature = (feature - feature.mean(axis=0)) / feature.std()\n",
    "#print(feature.mean(axis=0))\n",
    "#print(feature - feature.mean(axis=0))\n",
    "\n",
    "#print(feature)"
   ]
  }
 ],
 "metadata": {
  "kernelspec": {
   "display_name": "Python 3",
   "language": "python",
   "name": "python3"
  },
  "language_info": {
   "codemirror_mode": {
    "name": "ipython",
    "version": 3
   },
   "file_extension": ".py",
   "mimetype": "text/x-python",
   "name": "python",
   "nbconvert_exporter": "python",
   "pygments_lexer": "ipython3",
   "version": "3.8.10"
  },
  "orig_nbformat": 4,
  "vscode": {
   "interpreter": {
    "hash": "8bfa012fa100a1ab38ee06395b62406ea71dbc68b66a3cb679668e56bc928b03"
   }
  }
 },
 "nbformat": 4,
 "nbformat_minor": 2
}
